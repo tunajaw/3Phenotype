{
 "cells": [
  {
   "cell_type": "code",
   "execution_count": 8,
   "metadata": {},
   "outputs": [],
   "source": [
    "import numpy as np\n",
    "import pickle\n",
    "import polars as pl"
   ]
  },
  {
   "cell_type": "code",
   "execution_count": 11,
   "metadata": {},
   "outputs": [],
   "source": [
    "# ctd data\n",
    "\n",
    "with open('../dataset/event/split0/idcode_ccs.pkl', 'rb') as f:\n",
    "    ccs_data = pickle.load(f, encoding='latin-1')\n",
    "\n",
    "with open('../dataset/event/split0/idcode_exam.pkl', 'rb') as f:\n",
    "    exam_data = pickle.load(f, encoding='latin-1')\n",
    "\n",
    "with open('../dataset/event/split0/idcode_map.pkl', 'rb') as f:\n",
    "    idcode_map = pickle.load(f, encoding='latin-1')"
   ]
  },
  {
   "cell_type": "code",
   "execution_count": null,
   "metadata": {},
   "outputs": [],
   "source": [
    "# model output\n",
    "\n",
    "# x_corpus = np.load('../temp_model/[event_mc_sup--TEDA__pp_single_mark-concat]/data/x_corpus.npz')['arr_0']\n",
    "idcode = np.load('../temp_model/[event_mc_sup--TEDA__pp_single_mark-concat]/data/idcode.npz')['arr_0']\n",
    "cluster = np.load('../temp_model/[event_mc_sup--TEDA__pp_single_mark-concat]/data/cluster.npz')['arr_0']\n",
    "label = np.load('../temp_model/[event_mc_sup--TEDA__pp_single_mark-concat]/data/label.npz')['arr_0']"
   ]
  },
  {
   "cell_type": "code",
   "execution_count": 20,
   "metadata": {},
   "outputs": [
    {
     "data": {
      "text/plain": [
       "9"
      ]
     },
     "execution_count": 20,
     "metadata": {},
     "output_type": "execute_result"
    }
   ],
   "source": [
    "len(ccs_data['001469B797AE567A08E6A5A01F37E5B5E9ED49D9']['IPDAT'].unique())"
   ]
  },
  {
   "cell_type": "code",
   "execution_count": null,
   "metadata": {},
   "outputs": [],
   "source": [
    "ehr_cluster = []\n",
    "\n",
    "\n",
    "for _idcode in range(idcode):\n",
    "    ccs = ccs_data[idcode_map[_idcode]]\n",
    "    exam = exam_data[idcode_map[_idcode]]\n",
    "    print(len(ccs_data[idcode_map[_idcode]]['IPDAT'].unique()))\n",
    "    print(len(cluster[idcode == _idcode]))\n",
    "    assert 0\n",
    "\n",
    "    for _cls, _date in zip(cluster[idcode == _idcode], ccs_data[idcode_map[_idcode]]['IPDAT'].unique()):\n",
    "        ccs = \n"
   ]
  }
 ],
 "metadata": {
  "kernelspec": {
   "display_name": "TEE4EHR",
   "language": "python",
   "name": "python3"
  },
  "language_info": {
   "codemirror_mode": {
    "name": "ipython",
    "version": 3
   },
   "file_extension": ".py",
   "mimetype": "text/x-python",
   "name": "python",
   "nbconvert_exporter": "python",
   "pygments_lexer": "ipython3",
   "version": "3.9.19"
  }
 },
 "nbformat": 4,
 "nbformat_minor": 2
}
