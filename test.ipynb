{
 "cells": [
  {
   "cell_type": "code",
   "execution_count": 1,
   "metadata": {},
   "outputs": [],
   "source": [
    "import numpy as np\n",
    "import os\n",
    "\n",
    "from Cluster.metrics import get_cls_scores_from_label, get_cls_scores_without_label\n",
    "\n",
    "x_corpus = np.load('./temp_model/[RD74--TE__pp_single_mark-concat-d1]/data/x_corpus.npz')['arr_0']\n",
    "cluster = np.load('./temp_model/[RD74--TE__pp_single_mark-concat-d1]/data/cluster.npz')['arr_0']\n",
    "label = np.load('./temp_model/[RD74--TE__pp_single_mark-concat-d1]/data/label.npz')['arr_0']"
   ]
  },
  {
   "cell_type": "code",
   "execution_count": 2,
   "metadata": {},
   "outputs": [
    {
     "data": {
      "text/plain": [
       "{'PURITY': 0.8778730535406295,\n",
       " 'RAND': 0.012137789392783767,\n",
       " 'MI': 0.01624738064920259}"
      ]
     },
     "execution_count": 2,
     "metadata": {},
     "output_type": "execute_result"
    }
   ],
   "source": [
    "get_cls_scores_from_label(label, cluster)"
   ]
  }
 ],
 "metadata": {
  "kernelspec": {
   "display_name": "TEE4EHR",
   "language": "python",
   "name": "python3"
  },
  "language_info": {
   "codemirror_mode": {
    "name": "ipython",
    "version": 3
   },
   "file_extension": ".py",
   "mimetype": "text/x-python",
   "name": "python",
   "nbconvert_exporter": "python",
   "pygments_lexer": "ipython3",
   "version": "3.9.19"
  }
 },
 "nbformat": 4,
 "nbformat_minor": 2
}
