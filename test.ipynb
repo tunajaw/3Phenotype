{
 "cells": [
  {
   "cell_type": "code",
   "execution_count": 3,
   "metadata": {},
   "outputs": [
    {
     "data": {
      "text/plain": [
       "tensor([[[1, 0],\n",
       "         [1, 1]],\n",
       "\n",
       "        [[1, 1],\n",
       "         [1, 1]]], dtype=torch.int32)"
      ]
     },
     "execution_count": 3,
     "metadata": {},
     "output_type": "execute_result"
    }
   ],
   "source": [
    "import torch\n",
    "\n",
    "def get_att_mask(qt, kt):\n",
    "        '''\n",
    "        generate attention mask to avoid seeing future events at reference points t.\n",
    "\n",
    "        inputs:\n",
    "            qt: reference points, shape (B, R)\n",
    "            kt: time steps, shape (B, L)\n",
    "\n",
    "        output: \n",
    "            tril matrix, shape (B, R, L)\n",
    "        '''\n",
    "        return (qt.unsqueeze(2) >= kt.unsqueeze(1)).int()  # Shape: [B, nq, nk]\n",
    "\n",
    "qt = torch.tensor([[2, 5], [4, 7]])\n",
    "kt = torch.tensor([[0, 3], [1, 2]])\n",
    "get_att_mask(qt, kt)"
   ]
  },
  {
   "cell_type": "code",
   "execution_count": 1,
   "metadata": {},
   "outputs": [],
   "source": [
    "import numpy as np\n",
    "import os\n",
    "\n",
    "from Cluster.metrics import get_cls_scores_from_label, get_cls_scores_without_label\n",
    "\n",
    "x_corpus = np.load('./temp_model/[RD74--TE__pp_single_mark-concat-d1]/data/x_corpus.npz')['arr_0']\n",
    "cluster = np.load('./temp_model/[RD74--TE__pp_single_mark-concat-d1]/data/cluster.npz')['arr_0']\n",
    "label = np.load('./temp_model/[RD74--TE__pp_single_mark-concat-d1]/data/label.npz')['arr_0']"
   ]
  },
  {
   "cell_type": "code",
   "execution_count": 2,
   "metadata": {},
   "outputs": [
    {
     "data": {
      "text/plain": [
       "{'PURITY': 0.8778730535406295,\n",
       " 'RAND': 0.012137789392783767,\n",
       " 'MI': 0.01624738064920259}"
      ]
     },
     "execution_count": 2,
     "metadata": {},
     "output_type": "execute_result"
    }
   ],
   "source": [
    "get_cls_scores_from_label(label, cluster)"
   ]
  },
  {
   "cell_type": "code",
   "execution_count": 17,
   "metadata": {},
   "outputs": [
    {
     "data": {
      "text/plain": [
       "(16, 3, 3)"
      ]
     },
     "execution_count": 17,
     "metadata": {},
     "output_type": "execute_result"
    }
   ],
   "source": [
    "import numpy as np\n",
    "seq_len = 3\n",
    "seq_num = 16\n",
    "subsequent_mask = np.tile(np.triu(np.ones((seq_len, seq_len), dtype=bool), k=0)[None, :, :], (seq_num, 1, 1))\n",
    "subsequent_mask.shape"
   ]
  },
  {
   "cell_type": "code",
   "execution_count": 6,
   "metadata": {},
   "outputs": [
    {
     "data": {
      "text/plain": [
       "[1, 3, 4]"
      ]
     },
     "execution_count": 6,
     "metadata": {},
     "output_type": "execute_result"
    }
   ],
   "source": [
    "import numpy as np\n",
    "list(np.zeros([1, 3] + [4]).shape[:-1]) + [4]"
   ]
  },
  {
   "cell_type": "code",
   "execution_count": 15,
   "metadata": {},
   "outputs": [
    {
     "data": {
      "text/plain": [
       "array([[[ True],\n",
       "        [False],\n",
       "        [False]],\n",
       "\n",
       "       [[ True],\n",
       "        [False],\n",
       "        [False]],\n",
       "\n",
       "       [[ True],\n",
       "        [False],\n",
       "        [False]]])"
      ]
     },
     "execution_count": 15,
     "metadata": {},
     "output_type": "execute_result"
    }
   ],
   "source": [
    "subsequent_mask[:, :, [0]]"
   ]
  },
  {
   "cell_type": "code",
   "execution_count": 16,
   "metadata": {},
   "outputs": [
    {
     "data": {
      "text/plain": [
       "array([[[ True,  True,  True],\n",
       "        [False, False, False],\n",
       "        [False, False, False]],\n",
       "\n",
       "       [[ True,  True,  True],\n",
       "        [False, False, False],\n",
       "        [False, False, False]],\n",
       "\n",
       "       [[ True,  True,  True],\n",
       "        [False, False, False],\n",
       "        [False, False, False]]])"
      ]
     },
     "execution_count": 16,
     "metadata": {},
     "output_type": "execute_result"
    }
   ],
   "source": [
    "subsequent_mask * subsequent_mask[:, :, [0]]"
   ]
  },
  {
   "cell_type": "code",
   "execution_count": null,
   "metadata": {},
   "outputs": [
    {
     "data": {
      "text/plain": [
       "dict_keys(['hospital', 'num_states', 'state', 'dict_map_states', 'num_demos', 'demo', 'dict_map_demos'])"
      ]
     },
     "execution_count": 12,
     "metadata": {},
     "output_type": "execute_result"
    }
   ],
   "source": [
    "import pickle\n",
    "\n",
    "with open(\"dataset/p12-raindrop/split0/test_state.pkl\", \"rb\") as f:\n",
    "    original = pickle.load(f)"
   ]
  },
  {
   "cell_type": "code",
   "execution_count": 21,
   "metadata": {},
   "outputs": [
    {
     "data": {
      "text/plain": [
       "2262"
      ]
     },
     "execution_count": 21,
     "metadata": {},
     "output_type": "execute_result"
    }
   ],
   "source": [
    "len(set(list(a['hospital'].keys())).union(set(list(b['hospital'].keys()))))"
   ]
  },
  {
   "cell_type": "code",
   "execution_count": 31,
   "metadata": {},
   "outputs": [
    {
     "data": {
      "text/plain": [
       "{'Age': 0,\n",
       " 'Gender': 1,\n",
       " 'Height': 2,\n",
       " 'ICUType0': 3,\n",
       " 'ICUType1': 4,\n",
       " 'ICUType2': 5,\n",
       " 'ICUType3': 6}"
      ]
     },
     "execution_count": 31,
     "metadata": {},
     "output_type": "execute_result"
    }
   ],
   "source": [
    "a['dict_map_demos']"
   ]
  },
  {
   "cell_type": "code",
   "execution_count": 28,
   "metadata": {},
   "outputs": [
    {
     "data": {
      "text/plain": [
       "list"
      ]
     },
     "execution_count": 28,
     "metadata": {},
     "output_type": "execute_result"
    }
   ],
   "source": [
    "type(a['state'])"
   ]
  }
 ],
 "metadata": {
  "kernelspec": {
   "display_name": "TEE4EHR",
   "language": "python",
   "name": "python3"
  },
  "language_info": {
   "codemirror_mode": {
    "name": "ipython",
    "version": 3
   },
   "file_extension": ".py",
   "mimetype": "text/x-python",
   "name": "python",
   "nbconvert_exporter": "python",
   "pygments_lexer": "ipython3",
   "version": "3.9.19"
  }
 },
 "nbformat": 4,
 "nbformat_minor": 2
}
